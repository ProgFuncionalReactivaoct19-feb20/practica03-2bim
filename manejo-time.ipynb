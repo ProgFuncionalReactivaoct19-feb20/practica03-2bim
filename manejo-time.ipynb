{
 "cells": [
  {
   "cell_type": "code",
   "execution_count": 1,
   "metadata": {},
   "outputs": [],
   "source": [
    "import pandas as pd"
   ]
  },
  {
   "cell_type": "code",
   "execution_count": 2,
   "metadata": {},
   "outputs": [],
   "source": [
    "data = pd.read_csv(\"data/ods_1_2.csv\", error_bad_lines=False)"
   ]
  },
  {
   "cell_type": "code",
   "execution_count": 3,
   "metadata": {},
   "outputs": [
    {
     "data": {
      "text/plain": [
       "Index(['id_str', 'from_user', 'text', 'created_at', 'time', 'geo_coordinates',\n",
       "       'user_lang', 'in_reply_to_user_id_str', 'in_reply_to_screen_name',\n",
       "       'from_user_id_str', 'in_reply_to_status_id_str', 'source',\n",
       "       'profile_image_url', 'user_followers_count', 'user_friends_count',\n",
       "       'user_location', 'status_url', 'entities_str'],\n",
       "      dtype='object')"
      ]
     },
     "execution_count": 3,
     "metadata": {},
     "output_type": "execute_result"
    }
   ],
   "source": [
    "data.keys()"
   ]
  },
  {
   "cell_type": "code",
   "execution_count": 4,
   "metadata": {},
   "outputs": [
    {
     "data": {
      "text/plain": [
       "(18501, 18)"
      ]
     },
     "execution_count": 4,
     "metadata": {},
     "output_type": "execute_result"
    }
   ],
   "source": [
    "data.shape"
   ]
  },
  {
   "cell_type": "code",
   "execution_count": 5,
   "metadata": {},
   "outputs": [
    {
     "data": {
      "text/plain": [
       "1"
      ]
     },
     "execution_count": 5,
     "metadata": {},
     "output_type": "execute_result"
    }
   ],
   "source": [
    "data.time.isnull().sum()"
   ]
  },
  {
   "cell_type": "code",
   "execution_count": 7,
   "metadata": {},
   "outputs": [
    {
     "data": {
      "text/html": [
       "<div>\n",
       "<style scoped>\n",
       "    .dataframe tbody tr th:only-of-type {\n",
       "        vertical-align: middle;\n",
       "    }\n",
       "\n",
       "    .dataframe tbody tr th {\n",
       "        vertical-align: top;\n",
       "    }\n",
       "\n",
       "    .dataframe thead th {\n",
       "        text-align: right;\n",
       "    }\n",
       "</style>\n",
       "<table border=\"1\" class=\"dataframe\">\n",
       "  <thead>\n",
       "    <tr style=\"text-align: right;\">\n",
       "      <th></th>\n",
       "      <th>id_str</th>\n",
       "      <th>from_user</th>\n",
       "      <th>text</th>\n",
       "      <th>created_at</th>\n",
       "      <th>time</th>\n",
       "      <th>geo_coordinates</th>\n",
       "      <th>user_lang</th>\n",
       "      <th>in_reply_to_user_id_str</th>\n",
       "      <th>in_reply_to_screen_name</th>\n",
       "      <th>from_user_id_str</th>\n",
       "      <th>in_reply_to_status_id_str</th>\n",
       "      <th>source</th>\n",
       "      <th>profile_image_url</th>\n",
       "      <th>user_followers_count</th>\n",
       "      <th>user_friends_count</th>\n",
       "      <th>user_location</th>\n",
       "      <th>status_url</th>\n",
       "      <th>entities_str</th>\n",
       "    </tr>\n",
       "  </thead>\n",
       "  <tbody>\n",
       "    <tr>\n",
       "      <th>12352</th>\n",
       "      <td>1137370030553935872</td>\n",
       "      <td>Selphinia</td>\n",
       "      <td>#Helsinki2019: el grito de la #EconomíaCircula...</td>\n",
       "      <td>NaN</td>\n",
       "      <td>NaN</td>\n",
       "      <td>NaN</td>\n",
       "      <td>NaN</td>\n",
       "      <td>NaN</td>\n",
       "      <td>NaN</td>\n",
       "      <td>NaN</td>\n",
       "      <td>NaN</td>\n",
       "      <td>NaN</td>\n",
       "      <td>NaN</td>\n",
       "      <td>NaN</td>\n",
       "      <td>NaN</td>\n",
       "      <td>NaN</td>\n",
       "      <td>NaN</td>\n",
       "      <td>NaN</td>\n",
       "    </tr>\n",
       "  </tbody>\n",
       "</table>\n",
       "</div>"
      ],
      "text/plain": [
       "                    id_str  from_user  \\\n",
       "12352  1137370030553935872  Selphinia   \n",
       "\n",
       "                                                    text created_at time  \\\n",
       "12352  #Helsinki2019: el grito de la #EconomíaCircula...        NaN  NaN   \n",
       "\n",
       "      geo_coordinates user_lang  in_reply_to_user_id_str  \\\n",
       "12352             NaN       NaN                      NaN   \n",
       "\n",
       "      in_reply_to_screen_name from_user_id_str in_reply_to_status_id_str  \\\n",
       "12352                     NaN              NaN                       NaN   \n",
       "\n",
       "      source profile_image_url user_followers_count user_friends_count  \\\n",
       "12352    NaN               NaN                  NaN                NaN   \n",
       "\n",
       "      user_location status_url entities_str  \n",
       "12352           NaN        NaN          NaN  "
      ]
     },
     "execution_count": 7,
     "metadata": {},
     "output_type": "execute_result"
    }
   ],
   "source": [
    "data[data['time'].isnull()]"
   ]
  },
  {
   "cell_type": "code",
   "execution_count": 8,
   "metadata": {},
   "outputs": [
    {
     "data": {
      "text/plain": [
       "array(['27/06/2019 11:31:03', '27/06/2019 11:28:53',\n",
       "       '27/06/2019 11:28:29', ..., '01/06/2019 14:46:40',\n",
       "       '01/06/2019 14:46:38', '01/06/2019 14:45:02'], dtype=object)"
      ]
     },
     "execution_count": 8,
     "metadata": {},
     "output_type": "execute_result"
    }
   ],
   "source": [
    "data.time.unique()"
   ]
  },
  {
   "cell_type": "code",
   "execution_count": 13,
   "metadata": {},
   "outputs": [
    {
     "name": "stdout",
     "output_type": "stream",
     "text": [
      "20/12/2019 01:36:42\n"
     ]
    }
   ],
   "source": [
    "import datetime\n",
    "fecha = datetime.datetime.now().strftime('%d/%m/%Y %H:%M:%S')\n",
    "print(fecha)\n"
   ]
  },
  {
   "cell_type": "code",
   "execution_count": 14,
   "metadata": {},
   "outputs": [],
   "source": [
    "data.time.fillna(fecha, inplace=True) # reemplazar NaN por fecha"
   ]
  },
  {
   "cell_type": "code",
   "execution_count": 15,
   "metadata": {},
   "outputs": [
    {
     "data": {
      "text/html": [
       "<div>\n",
       "<style scoped>\n",
       "    .dataframe tbody tr th:only-of-type {\n",
       "        vertical-align: middle;\n",
       "    }\n",
       "\n",
       "    .dataframe tbody tr th {\n",
       "        vertical-align: top;\n",
       "    }\n",
       "\n",
       "    .dataframe thead th {\n",
       "        text-align: right;\n",
       "    }\n",
       "</style>\n",
       "<table border=\"1\" class=\"dataframe\">\n",
       "  <thead>\n",
       "    <tr style=\"text-align: right;\">\n",
       "      <th></th>\n",
       "      <th>id_str</th>\n",
       "      <th>from_user</th>\n",
       "      <th>text</th>\n",
       "      <th>created_at</th>\n",
       "      <th>time</th>\n",
       "      <th>geo_coordinates</th>\n",
       "      <th>user_lang</th>\n",
       "      <th>in_reply_to_user_id_str</th>\n",
       "      <th>in_reply_to_screen_name</th>\n",
       "      <th>from_user_id_str</th>\n",
       "      <th>in_reply_to_status_id_str</th>\n",
       "      <th>source</th>\n",
       "      <th>profile_image_url</th>\n",
       "      <th>user_followers_count</th>\n",
       "      <th>user_friends_count</th>\n",
       "      <th>user_location</th>\n",
       "      <th>status_url</th>\n",
       "      <th>entities_str</th>\n",
       "    </tr>\n",
       "  </thead>\n",
       "  <tbody>\n",
       "  </tbody>\n",
       "</table>\n",
       "</div>"
      ],
      "text/plain": [
       "Empty DataFrame\n",
       "Columns: [id_str, from_user, text, created_at, time, geo_coordinates, user_lang, in_reply_to_user_id_str, in_reply_to_screen_name, from_user_id_str, in_reply_to_status_id_str, source, profile_image_url, user_followers_count, user_friends_count, user_location, status_url, entities_str]\n",
       "Index: []"
      ]
     },
     "execution_count": 15,
     "metadata": {},
     "output_type": "execute_result"
    }
   ],
   "source": [
    "data[data['time'].isnull()]"
   ]
  },
  {
   "cell_type": "code",
   "execution_count": 18,
   "metadata": {},
   "outputs": [
    {
     "data": {
      "text/html": [
       "<div>\n",
       "<style scoped>\n",
       "    .dataframe tbody tr th:only-of-type {\n",
       "        vertical-align: middle;\n",
       "    }\n",
       "\n",
       "    .dataframe tbody tr th {\n",
       "        vertical-align: top;\n",
       "    }\n",
       "\n",
       "    .dataframe thead th {\n",
       "        text-align: right;\n",
       "    }\n",
       "</style>\n",
       "<table border=\"1\" class=\"dataframe\">\n",
       "  <thead>\n",
       "    <tr style=\"text-align: right;\">\n",
       "      <th></th>\n",
       "      <th>id_str</th>\n",
       "      <th>from_user</th>\n",
       "      <th>text</th>\n",
       "      <th>created_at</th>\n",
       "      <th>time</th>\n",
       "      <th>geo_coordinates</th>\n",
       "      <th>user_lang</th>\n",
       "      <th>in_reply_to_user_id_str</th>\n",
       "      <th>in_reply_to_screen_name</th>\n",
       "      <th>from_user_id_str</th>\n",
       "      <th>in_reply_to_status_id_str</th>\n",
       "      <th>source</th>\n",
       "      <th>profile_image_url</th>\n",
       "      <th>user_followers_count</th>\n",
       "      <th>user_friends_count</th>\n",
       "      <th>user_location</th>\n",
       "      <th>status_url</th>\n",
       "      <th>entities_str</th>\n",
       "    </tr>\n",
       "  </thead>\n",
       "  <tbody>\n",
       "    <tr>\n",
       "      <th>12353</th>\n",
       "      <td>https://t.co/kcgJZ4oct3 vía @notgip | #ODS #Fu...</td>\n",
       "      <td>Sat Jun 08 14:45:21 +0000 2019</td>\n",
       "      <td>08/06/2019 15:45:21</td>\n",
       "      <td>NaN</td>\n",
       "      <td>en</td>\n",
       "      <td>NaN</td>\n",
       "      <td>NaN</td>\n",
       "      <td>2.329469e+09</td>\n",
       "      <td>NaN</td>\n",
       "      <td>&lt;a href=\"http://twitter.com/download/android\" ...</td>\n",
       "      <td>http://pbs.twimg.com/profile_images/6500898372...</td>\n",
       "      <td>933.0</td>\n",
       "      <td>322.0</td>\n",
       "      <td>Barcelona &amp; around the World</td>\n",
       "      <td>http://twitter.com/Selphinia/statuses/11373700...</td>\n",
       "      <td>{\"hashtags\":[{\"text\":\"Helsinki2019\",\"indices\":...</td>\n",
       "      <td>NaN</td>\n",
       "      <td>NaN</td>\n",
       "    </tr>\n",
       "  </tbody>\n",
       "</table>\n",
       "</div>"
      ],
      "text/plain": [
       "                                                  id_str  \\\n",
       "12353  https://t.co/kcgJZ4oct3 vía @notgip | #ODS #Fu...   \n",
       "\n",
       "                            from_user                 text created_at time  \\\n",
       "12353  Sat Jun 08 14:45:21 +0000 2019  08/06/2019 15:45:21        NaN   en   \n",
       "\n",
       "      geo_coordinates user_lang  in_reply_to_user_id_str  \\\n",
       "12353             NaN       NaN             2.329469e+09   \n",
       "\n",
       "      in_reply_to_screen_name  \\\n",
       "12353                     NaN   \n",
       "\n",
       "                                        from_user_id_str  \\\n",
       "12353  <a href=\"http://twitter.com/download/android\" ...   \n",
       "\n",
       "                               in_reply_to_status_id_str source  \\\n",
       "12353  http://pbs.twimg.com/profile_images/6500898372...  933.0   \n",
       "\n",
       "      profile_image_url          user_followers_count  \\\n",
       "12353             322.0  Barcelona & around the World   \n",
       "\n",
       "                                      user_friends_count  \\\n",
       "12353  http://twitter.com/Selphinia/statuses/11373700...   \n",
       "\n",
       "                                           user_location status_url  \\\n",
       "12353  {\"hashtags\":[{\"text\":\"Helsinki2019\",\"indices\":...        NaN   \n",
       "\n",
       "      entities_str  \n",
       "12353          NaN  "
      ]
     },
     "execution_count": 18,
     "metadata": {},
     "output_type": "execute_result"
    }
   ],
   "source": [
    "data[data['time']=='en']"
   ]
  },
  {
   "cell_type": "code",
   "execution_count": 20,
   "metadata": {},
   "outputs": [],
   "source": [
    "data.loc[(data.time == 'en'),'time'] = fecha\n"
   ]
  },
  {
   "cell_type": "code",
   "execution_count": 21,
   "metadata": {},
   "outputs": [
    {
     "data": {
      "text/html": [
       "<div>\n",
       "<style scoped>\n",
       "    .dataframe tbody tr th:only-of-type {\n",
       "        vertical-align: middle;\n",
       "    }\n",
       "\n",
       "    .dataframe tbody tr th {\n",
       "        vertical-align: top;\n",
       "    }\n",
       "\n",
       "    .dataframe thead th {\n",
       "        text-align: right;\n",
       "    }\n",
       "</style>\n",
       "<table border=\"1\" class=\"dataframe\">\n",
       "  <thead>\n",
       "    <tr style=\"text-align: right;\">\n",
       "      <th></th>\n",
       "      <th>id_str</th>\n",
       "      <th>from_user</th>\n",
       "      <th>text</th>\n",
       "      <th>created_at</th>\n",
       "      <th>time</th>\n",
       "      <th>geo_coordinates</th>\n",
       "      <th>user_lang</th>\n",
       "      <th>in_reply_to_user_id_str</th>\n",
       "      <th>in_reply_to_screen_name</th>\n",
       "      <th>from_user_id_str</th>\n",
       "      <th>in_reply_to_status_id_str</th>\n",
       "      <th>source</th>\n",
       "      <th>profile_image_url</th>\n",
       "      <th>user_followers_count</th>\n",
       "      <th>user_friends_count</th>\n",
       "      <th>user_location</th>\n",
       "      <th>status_url</th>\n",
       "      <th>entities_str</th>\n",
       "    </tr>\n",
       "  </thead>\n",
       "  <tbody>\n",
       "  </tbody>\n",
       "</table>\n",
       "</div>"
      ],
      "text/plain": [
       "Empty DataFrame\n",
       "Columns: [id_str, from_user, text, created_at, time, geo_coordinates, user_lang, in_reply_to_user_id_str, in_reply_to_screen_name, from_user_id_str, in_reply_to_status_id_str, source, profile_image_url, user_followers_count, user_friends_count, user_location, status_url, entities_str]\n",
       "Index: []"
      ]
     },
     "execution_count": 21,
     "metadata": {},
     "output_type": "execute_result"
    }
   ],
   "source": [
    "data[data['time']=='en']"
   ]
  },
  {
   "cell_type": "code",
   "execution_count": 22,
   "metadata": {},
   "outputs": [],
   "source": [
    "data.to_csv(\"data/ods_1_2_modificado.csv\", index=False)\n"
   ]
  },
  {
   "cell_type": "code",
   "execution_count": null,
   "metadata": {},
   "outputs": [],
   "source": []
  }
 ],
 "metadata": {
  "kernelspec": {
   "display_name": "Python 3",
   "language": "python",
   "name": "python3"
  },
  "language_info": {
   "codemirror_mode": {
    "name": "ipython",
    "version": 3
   },
   "file_extension": ".py",
   "mimetype": "text/x-python",
   "name": "python",
   "nbconvert_exporter": "python",
   "pygments_lexer": "ipython3",
   "version": "3.6.8"
  }
 },
 "nbformat": 4,
 "nbformat_minor": 2
}
